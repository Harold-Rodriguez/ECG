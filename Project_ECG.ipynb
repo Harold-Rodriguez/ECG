{
  "nbformat": 4,
  "nbformat_minor": 0,
  "metadata": {
    "kernelspec": {
      "display_name": "Python 3",
      "language": "python",
      "name": "python3"
    },
    "language_info": {
      "codemirror_mode": {
        "name": "ipython",
        "version": 3
      },
      "file_extension": ".py",
      "mimetype": "text/x-python",
      "name": "python",
      "nbconvert_exporter": "python",
      "pygments_lexer": "ipython3",
      "version": "3.7.6"
    },
    "varInspector": {
      "cols": {
        "lenName": 16,
        "lenType": 16,
        "lenVar": 40
      },
      "kernels_config": {
        "python": {
          "delete_cmd_postfix": "",
          "delete_cmd_prefix": "del ",
          "library": "var_list.py",
          "varRefreshCmd": "print(var_dic_list())"
        },
        "r": {
          "delete_cmd_postfix": ") ",
          "delete_cmd_prefix": "rm(",
          "library": "var_list.r",
          "varRefreshCmd": "cat(var_dic_list()) "
        }
      },
      "types_to_exclude": [
        "module",
        "function",
        "builtin_function_or_method",
        "instance",
        "_Feature"
      ],
      "window_display": false
    },
    "colab": {
      "name": "Project_ECG.ipynb",
      "provenance": [],
      "include_colab_link": true
    },
    "accelerator": "GPU"
  },
  "cells": [
    {
      "cell_type": "markdown",
      "metadata": {
        "id": "view-in-github",
        "colab_type": "text"
      },
      "source": [
        "<a href=\"https://colab.research.google.com/github/Harold-Rodriguez/ECG/blob/main/Project_ECG.ipynb\" target=\"_parent\"><img src=\"https://colab.research.google.com/assets/colab-badge.svg\" alt=\"Open In Colab\"/></a>"
      ]
    },
    {
      "cell_type": "code",
      "metadata": {
        "colab": {
          "base_uri": "https://localhost:8080/"
        },
        "id": "NchARCw-owU8",
        "outputId": "a2276f1b-9670-4e1a-9979-a7791dccace9"
      },
      "source": [
        "!nvidia-smi"
      ],
      "execution_count": 1,
      "outputs": [
        {
          "output_type": "stream",
          "name": "stdout",
          "text": [
            "Fri Nov 26 14:53:47 2021       \n",
            "+-----------------------------------------------------------------------------+\n",
            "| NVIDIA-SMI 495.44       Driver Version: 460.32.03    CUDA Version: 11.2     |\n",
            "|-------------------------------+----------------------+----------------------+\n",
            "| GPU  Name        Persistence-M| Bus-Id        Disp.A | Volatile Uncorr. ECC |\n",
            "| Fan  Temp  Perf  Pwr:Usage/Cap|         Memory-Usage | GPU-Util  Compute M. |\n",
            "|                               |                      |               MIG M. |\n",
            "|===============================+======================+======================|\n",
            "|   0  Tesla K80           Off  | 00000000:00:04.0 Off |                    0 |\n",
            "| N/A   34C    P8    28W / 149W |      0MiB / 11441MiB |      0%      Default |\n",
            "|                               |                      |                  N/A |\n",
            "+-------------------------------+----------------------+----------------------+\n",
            "                                                                               \n",
            "+-----------------------------------------------------------------------------+\n",
            "| Processes:                                                                  |\n",
            "|  GPU   GI   CI        PID   Type   Process name                  GPU Memory |\n",
            "|        ID   ID                                                   Usage      |\n",
            "|=============================================================================|\n",
            "|  No running processes found                                                 |\n",
            "+-----------------------------------------------------------------------------+\n"
          ]
        }
      ]
    },
    {
      "cell_type": "code",
      "metadata": {
        "id": "hXC0gW48a20D",
        "colab": {
          "base_uri": "https://localhost:8080/"
        },
        "outputId": "98c4fc3e-c00f-4a05-b84d-d8650a30f771"
      },
      "source": [
        "import h5py\n",
        "import numpy as np\n",
        "import pandas as pd\n",
        "from sklearn.model_selection import train_test_split\n",
        "import matplotlib.pyplot as plt\n",
        "\n",
        "from google.colab import drive\n",
        "drive.mount('/content/drive')"
      ],
      "execution_count": 2,
      "outputs": [
        {
          "output_type": "stream",
          "name": "stdout",
          "text": [
            "Drive already mounted at /content/drive; to attempt to forcibly remount, call drive.mount(\"/content/drive\", force_remount=True).\n"
          ]
        }
      ]
    },
    {
      "cell_type": "code",
      "metadata": {
        "id": "88IfAH4Ai48b"
      },
      "source": [
        "path_data = '/content/drive/MyDrive/11_MAS2/ECG/data'\n",
        "\n",
        "y = pd.read_csv(f'{path_data}/annotations/gold_standard.csv')\n",
        "\n",
        "with h5py.File(f\"{path_data}/ecg_tracings.hdf5\", \"r\") as f:\n",
        "  x = np.array(f['tracings'])\n",
        "#print(y) "
      ],
      "execution_count": 3,
      "outputs": []
    },
    {
      "cell_type": "code",
      "metadata": {
        "id": "w0LtX2G4p-Uq",
        "outputId": "834b343c-9239-4328-899a-1f5480a6d4e7",
        "colab": {
          "base_uri": "https://localhost:8080/",
          "height": 369
        }
      },
      "source": [
        "n_bins = 200\n",
        "labels= ['normal']\n",
        "labels.extend(y.columns)\n",
        "label = 3\n",
        "axes=np.array([2, 3])\n",
        "colors=['royalblue', 'midnightblue', 'navy', 'darkblue', 'mediumblue', 'blue']\n",
        "titles = ['1st degree AV block', 'Right bundle branch block', 'Left bundle branch block', 'sinus bradycardia', 'atrial fibrillation', 'sinus tachycardia']\n",
        "fig, axs = plt.subplots(2, 3, figsize=(10,5), tight_layout=True, sharey='row')\n",
        "axs[0, 0].set_ylabel('Patiens ECG tracings')\n",
        "axs[1, 0].set_ylabel('Patiens ECG tracings') \n",
        "for i in range(axes[0]) :\n",
        "  label*=i\n",
        "  for n in range(axes[1]):\n",
        "    axs[i, n].bar((labels[0], labels[label+1]), y[labels[label+1]].value_counts(), width=0.5, color = colors[label])\n",
        "    axs[i, n].set_title(titles[label])\n",
        "    label+=1"
      ],
      "execution_count": 4,
      "outputs": [
        {
          "output_type": "display_data",
          "data": {
            "image/png": "[encoded data removed]",
            "text/plain": [
              "<Figure size 720x360 with 6 Axes>"
            ]
          },
          "metadata": {
            "needs_background": "light"
          }
        }
      ]
    },
    {
      "cell_type": "code",
      "metadata": {
        "id": "SSlwrt8xa20L"
      },
      "source": [
        "x_flatten=x.reshape(827,12*4096)\n",
        "X_Train, X_Test, Y_Train, Y_Test = train_test_split(x_flatten, y[\"1dAVb\"], test_size=0.20, random_state=1) "
      ],
      "execution_count": 5,
      "outputs": []
    },
    {
      "cell_type": "code",
      "metadata": {
        "id": "nVAsa9aoa20M"
      },
      "source": [
        "N = 49152\n",
        "f_s = 200\n",
        "t_n = 2.56\n",
        "T = t_n / N\n",
        "amplitudes = X_Train\n",
        "x_value = np.linspace(0,t_n,N)\n",
        "frequencies = [17, 15.5, 14, 12.5, 11, 9.5, 8, 6.5, 5, 3, 1.5, 1]\n",
        "frequencies = np.tile(frequencies, len(amplitudes))\n",
        "y_values = [amplitudes[ii]*np.sin(2*np.pi*frequencies[ii]*x_value) for ii in range(0,len(amplitudes))]\n",
        "composite_y_value = np.sum(y_values, axis=0)"
      ],
      "execution_count": 6,
      "outputs": []
    }
  ]
}